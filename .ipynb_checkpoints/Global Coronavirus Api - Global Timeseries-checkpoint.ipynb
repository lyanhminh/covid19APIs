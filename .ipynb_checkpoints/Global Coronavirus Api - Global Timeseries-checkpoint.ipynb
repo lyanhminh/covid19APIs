{
 "cells": [
  {
   "cell_type": "code",
   "execution_count": 90,
   "metadata": {},
   "outputs": [],
   "source": [
    "import requests, json, pandas, datetime, collections\n",
    "import matplotlib.pyplot as plt\n",
    "import ipywidgets as widgets\n",
    "from IPython.display import display, clear_output\n",
    "from ipywidgets.widgets.interaction import show_inline_matplotlib_plots\n"
   ]
  },
  {
   "cell_type": "code",
   "execution_count": 2,
   "metadata": {},
   "outputs": [],
   "source": [
    "import requests, json, pandas\n",
    "import matplotlib.pyplot as plt\n",
    "body = {\"username\":\"testapi1\", \"password\":\"coronavirus19\"}\n",
    "\n",
    "response = requests.post(\"https://covid19.cloudeya.org/token\", data=body)\n",
    "token = response.json()['Document']\n",
    "\n",
    "auth = {'Authorization': 'Bearer ' + token}\n",
    "rawData = requests.get(\"https://covid19.cloudeya.org/time_series_confirmed_global\", headers=auth)\n",
    "rawDataDeaths = requests.get(\"https://covid19.cloudeya.org/time_series_deaths_global\", headers=auth)"
   ]
  },
  {
   "cell_type": "code",
   "execution_count": 3,
   "metadata": {},
   "outputs": [],
   "source": [
    "dataDf = pandas.DataFrame(json.loads(rawData.text)['Document']).groupby('country_region').sum().iloc[:, 3:].transpose()\n",
    "dataDfDeaths = pandas.DataFrame(json.loads(rawDataDeaths.text)['Document']).groupby('country_region').sum().iloc[:, 3:].transpose()"
   ]
  },
  {
   "cell_type": "code",
   "execution_count": 4,
   "metadata": {},
   "outputs": [
    {
     "data": {
      "text/html": [
       "<div>\n",
       "<style scoped>\n",
       "    .dataframe tbody tr th:only-of-type {\n",
       "        vertical-align: middle;\n",
       "    }\n",
       "\n",
       "    .dataframe tbody tr th {\n",
       "        vertical-align: top;\n",
       "    }\n",
       "\n",
       "    .dataframe thead th {\n",
       "        text-align: right;\n",
       "    }\n",
       "</style>\n",
       "<table border=\"1\" class=\"dataframe\">\n",
       "  <thead>\n",
       "    <tr style=\"text-align: right;\">\n",
       "      <th>country_region</th>\n",
       "      <th>Afghanistan</th>\n",
       "      <th>Albania</th>\n",
       "      <th>Algeria</th>\n",
       "      <th>Andorra</th>\n",
       "      <th>Angola</th>\n",
       "      <th>Antigua and Barbuda</th>\n",
       "      <th>Argentina</th>\n",
       "      <th>Armenia</th>\n",
       "      <th>Australia</th>\n",
       "      <th>Austria</th>\n",
       "      <th>...</th>\n",
       "      <th>United Kingdom</th>\n",
       "      <th>Uruguay</th>\n",
       "      <th>Uzbekistan</th>\n",
       "      <th>Vanuatu</th>\n",
       "      <th>Venezuela</th>\n",
       "      <th>Vietnam</th>\n",
       "      <th>West Bank and Gaza</th>\n",
       "      <th>Yemen</th>\n",
       "      <th>Zambia</th>\n",
       "      <th>Zimbabwe</th>\n",
       "    </tr>\n",
       "  </thead>\n",
       "  <tbody>\n",
       "    <tr>\n",
       "      <td>jan222020</td>\n",
       "      <td>0</td>\n",
       "      <td>0</td>\n",
       "      <td>0</td>\n",
       "      <td>0</td>\n",
       "      <td>0</td>\n",
       "      <td>0</td>\n",
       "      <td>0</td>\n",
       "      <td>0</td>\n",
       "      <td>0</td>\n",
       "      <td>0</td>\n",
       "      <td>...</td>\n",
       "      <td>0</td>\n",
       "      <td>0</td>\n",
       "      <td>0</td>\n",
       "      <td>0</td>\n",
       "      <td>0</td>\n",
       "      <td>0</td>\n",
       "      <td>0</td>\n",
       "      <td>0</td>\n",
       "      <td>0</td>\n",
       "      <td>0</td>\n",
       "    </tr>\n",
       "    <tr>\n",
       "      <td>jan232020</td>\n",
       "      <td>0</td>\n",
       "      <td>0</td>\n",
       "      <td>0</td>\n",
       "      <td>0</td>\n",
       "      <td>0</td>\n",
       "      <td>0</td>\n",
       "      <td>0</td>\n",
       "      <td>0</td>\n",
       "      <td>0</td>\n",
       "      <td>0</td>\n",
       "      <td>...</td>\n",
       "      <td>0</td>\n",
       "      <td>0</td>\n",
       "      <td>0</td>\n",
       "      <td>0</td>\n",
       "      <td>0</td>\n",
       "      <td>0</td>\n",
       "      <td>0</td>\n",
       "      <td>0</td>\n",
       "      <td>0</td>\n",
       "      <td>0</td>\n",
       "    </tr>\n",
       "    <tr>\n",
       "      <td>jan242020</td>\n",
       "      <td>0</td>\n",
       "      <td>0</td>\n",
       "      <td>0</td>\n",
       "      <td>0</td>\n",
       "      <td>0</td>\n",
       "      <td>0</td>\n",
       "      <td>0</td>\n",
       "      <td>0</td>\n",
       "      <td>0</td>\n",
       "      <td>0</td>\n",
       "      <td>...</td>\n",
       "      <td>0</td>\n",
       "      <td>0</td>\n",
       "      <td>0</td>\n",
       "      <td>0</td>\n",
       "      <td>0</td>\n",
       "      <td>0</td>\n",
       "      <td>0</td>\n",
       "      <td>0</td>\n",
       "      <td>0</td>\n",
       "      <td>0</td>\n",
       "    </tr>\n",
       "    <tr>\n",
       "      <td>jan252020</td>\n",
       "      <td>0</td>\n",
       "      <td>0</td>\n",
       "      <td>0</td>\n",
       "      <td>0</td>\n",
       "      <td>0</td>\n",
       "      <td>0</td>\n",
       "      <td>0</td>\n",
       "      <td>0</td>\n",
       "      <td>0</td>\n",
       "      <td>0</td>\n",
       "      <td>...</td>\n",
       "      <td>0</td>\n",
       "      <td>0</td>\n",
       "      <td>0</td>\n",
       "      <td>0</td>\n",
       "      <td>0</td>\n",
       "      <td>0</td>\n",
       "      <td>0</td>\n",
       "      <td>0</td>\n",
       "      <td>0</td>\n",
       "      <td>0</td>\n",
       "    </tr>\n",
       "    <tr>\n",
       "      <td>jan262020</td>\n",
       "      <td>0</td>\n",
       "      <td>0</td>\n",
       "      <td>0</td>\n",
       "      <td>0</td>\n",
       "      <td>0</td>\n",
       "      <td>0</td>\n",
       "      <td>0</td>\n",
       "      <td>0</td>\n",
       "      <td>0</td>\n",
       "      <td>0</td>\n",
       "      <td>...</td>\n",
       "      <td>0</td>\n",
       "      <td>0</td>\n",
       "      <td>0</td>\n",
       "      <td>0</td>\n",
       "      <td>0</td>\n",
       "      <td>0</td>\n",
       "      <td>0</td>\n",
       "      <td>0</td>\n",
       "      <td>0</td>\n",
       "      <td>0</td>\n",
       "    </tr>\n",
       "    <tr>\n",
       "      <td>...</td>\n",
       "      <td>...</td>\n",
       "      <td>...</td>\n",
       "      <td>...</td>\n",
       "      <td>...</td>\n",
       "      <td>...</td>\n",
       "      <td>...</td>\n",
       "      <td>...</td>\n",
       "      <td>...</td>\n",
       "      <td>...</td>\n",
       "      <td>...</td>\n",
       "      <td>...</td>\n",
       "      <td>...</td>\n",
       "      <td>...</td>\n",
       "      <td>...</td>\n",
       "      <td>...</td>\n",
       "      <td>...</td>\n",
       "      <td>...</td>\n",
       "      <td>...</td>\n",
       "      <td>...</td>\n",
       "      <td>...</td>\n",
       "      <td>...</td>\n",
       "    </tr>\n",
       "    <tr>\n",
       "      <td>dec072020</td>\n",
       "      <td>1900</td>\n",
       "      <td>922</td>\n",
       "      <td>2527</td>\n",
       "      <td>78</td>\n",
       "      <td>354</td>\n",
       "      <td>4</td>\n",
       "      <td>39888</td>\n",
       "      <td>2344</td>\n",
       "      <td>908</td>\n",
       "      <td>3897</td>\n",
       "      <td>...</td>\n",
       "      <td>61531</td>\n",
       "      <td>83</td>\n",
       "      <td>611</td>\n",
       "      <td>0</td>\n",
       "      <td>924</td>\n",
       "      <td>35</td>\n",
       "      <td>848</td>\n",
       "      <td>649</td>\n",
       "      <td>364</td>\n",
       "      <td>294</td>\n",
       "    </tr>\n",
       "    <tr>\n",
       "      <td>dec082020</td>\n",
       "      <td>1906</td>\n",
       "      <td>936</td>\n",
       "      <td>2539</td>\n",
       "      <td>78</td>\n",
       "      <td>355</td>\n",
       "      <td>4</td>\n",
       "      <td>40009</td>\n",
       "      <td>2372</td>\n",
       "      <td>908</td>\n",
       "      <td>4002</td>\n",
       "      <td>...</td>\n",
       "      <td>62130</td>\n",
       "      <td>86</td>\n",
       "      <td>611</td>\n",
       "      <td>0</td>\n",
       "      <td>928</td>\n",
       "      <td>35</td>\n",
       "      <td>867</td>\n",
       "      <td>606</td>\n",
       "      <td>364</td>\n",
       "      <td>303</td>\n",
       "    </tr>\n",
       "    <tr>\n",
       "      <td>dec092020</td>\n",
       "      <td>1919</td>\n",
       "      <td>951</td>\n",
       "      <td>2554</td>\n",
       "      <td>78</td>\n",
       "      <td>358</td>\n",
       "      <td>4</td>\n",
       "      <td>40222</td>\n",
       "      <td>2393</td>\n",
       "      <td>908</td>\n",
       "      <td>4056</td>\n",
       "      <td>...</td>\n",
       "      <td>62663</td>\n",
       "      <td>87</td>\n",
       "      <td>611</td>\n",
       "      <td>0</td>\n",
       "      <td>933</td>\n",
       "      <td>35</td>\n",
       "      <td>890</td>\n",
       "      <td>606</td>\n",
       "      <td>364</td>\n",
       "      <td>304</td>\n",
       "    </tr>\n",
       "    <tr>\n",
       "      <td>dec102020</td>\n",
       "      <td>1935</td>\n",
       "      <td>965</td>\n",
       "      <td>2564</td>\n",
       "      <td>78</td>\n",
       "      <td>362</td>\n",
       "      <td>4</td>\n",
       "      <td>40431</td>\n",
       "      <td>2416</td>\n",
       "      <td>908</td>\n",
       "      <td>4163</td>\n",
       "      <td>...</td>\n",
       "      <td>63179</td>\n",
       "      <td>90</td>\n",
       "      <td>611</td>\n",
       "      <td>0</td>\n",
       "      <td>938</td>\n",
       "      <td>35</td>\n",
       "      <td>910</td>\n",
       "      <td>606</td>\n",
       "      <td>364</td>\n",
       "      <td>305</td>\n",
       "    </tr>\n",
       "    <tr>\n",
       "      <td>dec112020</td>\n",
       "      <td>1945</td>\n",
       "      <td>977</td>\n",
       "      <td>2575</td>\n",
       "      <td>78</td>\n",
       "      <td>365</td>\n",
       "      <td>4</td>\n",
       "      <td>40606</td>\n",
       "      <td>2445</td>\n",
       "      <td>908</td>\n",
       "      <td>4289</td>\n",
       "      <td>...</td>\n",
       "      <td>63603</td>\n",
       "      <td>90</td>\n",
       "      <td>612</td>\n",
       "      <td>0</td>\n",
       "      <td>944</td>\n",
       "      <td>35</td>\n",
       "      <td>931</td>\n",
       "      <td>606</td>\n",
       "      <td>365</td>\n",
       "      <td>306</td>\n",
       "    </tr>\n",
       "  </tbody>\n",
       "</table>\n",
       "<p>325 rows × 191 columns</p>\n",
       "</div>"
      ],
      "text/plain": [
       "country_region  Afghanistan  Albania  Algeria  Andorra  Angola  \\\n",
       "jan222020                 0        0        0        0       0   \n",
       "jan232020                 0        0        0        0       0   \n",
       "jan242020                 0        0        0        0       0   \n",
       "jan252020                 0        0        0        0       0   \n",
       "jan262020                 0        0        0        0       0   \n",
       "...                     ...      ...      ...      ...     ...   \n",
       "dec072020              1900      922     2527       78     354   \n",
       "dec082020              1906      936     2539       78     355   \n",
       "dec092020              1919      951     2554       78     358   \n",
       "dec102020              1935      965     2564       78     362   \n",
       "dec112020              1945      977     2575       78     365   \n",
       "\n",
       "country_region  Antigua and Barbuda  Argentina  Armenia  Australia  Austria  \\\n",
       "jan222020                         0          0        0          0        0   \n",
       "jan232020                         0          0        0          0        0   \n",
       "jan242020                         0          0        0          0        0   \n",
       "jan252020                         0          0        0          0        0   \n",
       "jan262020                         0          0        0          0        0   \n",
       "...                             ...        ...      ...        ...      ...   \n",
       "dec072020                         4      39888     2344        908     3897   \n",
       "dec082020                         4      40009     2372        908     4002   \n",
       "dec092020                         4      40222     2393        908     4056   \n",
       "dec102020                         4      40431     2416        908     4163   \n",
       "dec112020                         4      40606     2445        908     4289   \n",
       "\n",
       "country_region  ...  United Kingdom  Uruguay  Uzbekistan  Vanuatu  Venezuela  \\\n",
       "jan222020       ...               0        0           0        0          0   \n",
       "jan232020       ...               0        0           0        0          0   \n",
       "jan242020       ...               0        0           0        0          0   \n",
       "jan252020       ...               0        0           0        0          0   \n",
       "jan262020       ...               0        0           0        0          0   \n",
       "...             ...             ...      ...         ...      ...        ...   \n",
       "dec072020       ...           61531       83         611        0        924   \n",
       "dec082020       ...           62130       86         611        0        928   \n",
       "dec092020       ...           62663       87         611        0        933   \n",
       "dec102020       ...           63179       90         611        0        938   \n",
       "dec112020       ...           63603       90         612        0        944   \n",
       "\n",
       "country_region  Vietnam  West Bank and Gaza  Yemen  Zambia  Zimbabwe  \n",
       "jan222020             0                   0      0       0         0  \n",
       "jan232020             0                   0      0       0         0  \n",
       "jan242020             0                   0      0       0         0  \n",
       "jan252020             0                   0      0       0         0  \n",
       "jan262020             0                   0      0       0         0  \n",
       "...                 ...                 ...    ...     ...       ...  \n",
       "dec072020            35                 848    649     364       294  \n",
       "dec082020            35                 867    606     364       303  \n",
       "dec092020            35                 890    606     364       304  \n",
       "dec102020            35                 910    606     364       305  \n",
       "dec112020            35                 931    606     365       306  \n",
       "\n",
       "[325 rows x 191 columns]"
      ]
     },
     "execution_count": 4,
     "metadata": {},
     "output_type": "execute_result"
    }
   ],
   "source": [
    "dataDf.head(10)\n",
    "dataDfDeaths"
   ]
  },
  {
   "cell_type": "code",
   "execution_count": 5,
   "metadata": {},
   "outputs": [],
   "source": [
    "dateStrings = [ \" \".join([x[:3], x[3:5], x[5:]]) for x in dataDf.index.values]\n",
    "dates = [datetime.datetime.strptime(x,  \"%b %d %Y\" ) for x in dateStrings] \n"
   ]
  },
  {
   "cell_type": "code",
   "execution_count": 165,
   "metadata": {},
   "outputs": [
    {
     "data": {
      "image/png": "[encoded data removed]",
      "text/plain": [
       "<Figure size 432x288 with 1 Axes>"
      ]
     },
     "metadata": {
      "needs_background": "light"
     },
     "output_type": "display_data"
    }
   ],
   "source": [
    "f, ax = plt.subplots()\n",
    "# ax.plot(dates[57:217],  dataDf.loc[:,'Italy'][60:220].squeeze(), label='Confirmed Cases in Italy', color='blue')\n",
    "ax.plot(dates[57:217],  dataDfDeaths.loc[:,'Italy'][60:220].squeeze(), label='Deaths in Italy', color='red')\n",
    "plt.setp(ax.get_xticklabels(), rotation=45)\n",
    "ax.legend();\n"
   ]
  },
  {
   "cell_type": "code",
   "execution_count": 164,
   "metadata": {},
   "outputs": [
    {
     "data": {
      "image/png": "[encoded data removed]",
      "text/plain": [
       "<Figure size 432x288 with 1 Axes>"
      ]
     },
     "metadata": {
      "needs_background": "light"
     },
     "output_type": "display_data"
    }
   ],
   "source": [
    "f, ax = plt.subplots()\n",
    "# ax.plot(dates[57:217],  dataDf.loc[:,'US'][60:220].squeeze(), label='Confirmed Cases in US', color='blue')\n",
    "ax.plot(dates[57:217],  dataDfDeaths.loc[:,'US'][60:220].squeeze(), label='Deaths in US', color='red')\n",
    "plt.setp(ax.get_xticklabels(), rotation=45)\n",
    "ax.legend();\n"
   ]
  },
  {
   "cell_type": "code",
   "execution_count": 152,
   "metadata": {},
   "outputs": [],
   "source": [
    "def plotFactory(df, title=\"\"):\n",
    "    def inner(plotHandle, *countries, **dateWindow):\n",
    "        dateStrings = [ \" \".join([x[:3], x[3:5], x[5:]]) for x in df.index.values]\n",
    "        dates = [datetime.datetime.strptime(x,  \"%b %d %Y\" ) for x in dateStrings] \n",
    "        colors = ['b', 'r', 'c', 'y', 'k', 'm', 'g']\n",
    "        lastDate = dates[-1]\n",
    "        months = {month: idx+1 for idx, month in enumerate(['jan', 'feb', 'mar', 'apr', 'may', 'jun', 'jul', 'aug', 'sep','oct', 'nov', 'dec'])}\n",
    "        startMonth = 1 if 'beginningMonth' not in dateWindow else months[dateWindow['beginningMonth'].lower()]\n",
    "        endMonth = int(lastDate.strftime(\"%m\")) if 'endingMonth' not in dateWindow else months[dateWindow['endingMonth'].lower()] \n",
    "        startYear, endYear = [2020 if time not in dateWindow else dateWindow[time] for time in ['beginningYear', 'endingYear']]\n",
    "        dateMask = [date> datetime.datetime(startYear,startMonth, 1) and date < datetime.datetime(endYear, endMonth, 28) for date in dates]\n",
    "        ax = plotHandle\n",
    "        for (country,color) in zip(countries, colors):\n",
    "            ax.plot(maskList(dates, dateMask),  df.loc[dateMask,country].squeeze(), label=country, color=color)\n",
    "\n",
    "        ax.legend()\n",
    "        plt.setp(ax.get_xticklabels(), rotation=45)\n",
    "        plt.title(label=title)\n",
    "    return inner\n",
    "    \n",
    "def maskList(l, mask):\n",
    "    return [litem for m, litem in zip(mask, l) if m]\n",
    "\n",
    "def justData(df, *countries, **dateWindow):\n",
    "        dateStrings = [ \" \".join([x[:3], x[3:5], x[5:]]) for x in df.index.values]\n",
    "        dates = [datetime.datetime.strptime(x,  \"%b %d %Y\" ) for x in dateStrings] \n",
    "        colors = ['b', 'r', 'c', 'y', 'k', 'm', 'g']\n",
    "        lastDate = dates[-1]\n",
    "        months = {month: idx+1 for idx, month in enumerate(['jan', 'feb', 'mar', 'apr', 'may', 'jun', 'jul', 'aug', 'sep','oct', 'nov', 'dec'])}\n",
    "        startMonth = 1 if 'beginningMonth' not in dateWindow else months[dateWindow['beginningMonth'].lower()]\n",
    "        endMonth = int(lastDate.strftime(\"%m\")) if 'endingMonth' not in dateWindow else months[dateWindow['endingMonth'].lower()] \n",
    "        startYear, endYear = [2020 if time not in dateWindow else dateWindow[time] for time in ['beginningYear', 'endingYear']]\n",
    "        dateMask = [date> datetime.datetime(startYear,startMonth, 1) and date < datetime.datetime(endYear, endMonth, 28) for date in dates]\n",
    "        xAndYs = dict()\n",
    "        for (country,color) in zip(countries, colors):\n",
    "            xAndYs[country] = [maskList(dates, dateMask),  df.loc[dateMask,country].squeeze(), country, color]\n",
    "        return xAndYs\n",
    "\n",
    "\n",
    "ConfirmedCumSumByCountryAndDate = plotFactory(dataDf, \"Cumulative Cases\")\n",
    "ConfirmedDailyCountryAndDate = plotFactory(dataDf.diff(), \"Daily New Cases\")\n",
    "DeathsCumSumByCountryAndDate = plotFactory(dataDfDeaths, \"Cumulative Deaths\")\n",
    "DeathsDailyCountryAndDate = plotFactory(dataDfDeaths.diff(), \"Daily New Deaths\")\n"
   ]
  },
  {
   "cell_type": "code",
   "execution_count": 153,
   "metadata": {},
   "outputs": [
    {
     "data": {
      "image/png": "[encoded data removed]",
      "text/plain": [
       "<Figure size 432x288 with 1 Axes>"
      ]
     },
     "metadata": {
      "needs_background": "light"
     },
     "output_type": "display_data"
    }
   ],
   "source": [
    "button = widgets.Button(description=\"Plot\")\n",
    "output = widgets.Output()\n",
    "months = {idx+1: month for idx, month in enumerate(['jan', 'feb', 'mar', 'apr', 'may', 'jun', 'jul', 'aug', 'sep','oct', 'nov', 'dec'])}\n",
    "metricDict = {'Cumulative Sum Cases': ConfirmedCumSumByCountryAndDate,\n",
    "                      'Daily Cases': ConfirmedDailyCountryAndDate,\n",
    "                     'Cumulative Sum Deaths': DeathsCumSumByCountryAndDate, \n",
    "                     'Daily Deaths': DeathsDailyCountryAndDate}\n",
    "\n",
    "f, ax=plt.subplots()\n",
    "\n",
    "def plotButtonCallback(b):\n",
    "    countries = [country.strip() for country in countrySelections.value.strip().split(',')]\n",
    "    beginningMonth, endingMonth = [months[x.month] for x in dateMask.value]\n",
    "    output.clear_output()\n",
    "\n",
    "    with output:\n",
    "        clear_output(wait=True)\n",
    "        metricDict[metric.value](plt.subplot(), *countries, beginningMonth=beginningMonth, endingMonth=endingMonth)\n",
    "\n",
    "        show_inline_matplotlib_plots()\n",
    "\n",
    "button.on_click(plotButtonCallback)\n",
    "\n",
    "dateOptions = [(i.strftime('%b'), i) for i in dates]\n",
    "\n",
    "dateMask = widgets.SelectionRangeSlider(\n",
    "    options=dateOptions,\n",
    "    index=(0,11),\n",
    "    description='Months',\n",
    "    disabled=False\n",
    ")\n",
    "\n",
    "\n",
    "countrySelections = widgets.Text(\n",
    "    value='Italy, US',\n",
    "    placeholder='Italy, US',\n",
    "    description='Countries:',\n",
    "    disabled=False\n",
    ")\n",
    "\n",
    "metric = widgets.ToggleButtons(\n",
    "    options=['Cumulative Sum Cases', 'Daily Cases', 'Cumulative Sum Deaths', 'Daily Deaths'],\n",
    "    description='Metric:',\n",
    "    disabled=False,\n",
    "#     tooltips=['Description of slow', 'Description of regular', 'Description of fast'],\n",
    "#     icons=['check'] * 3\n",
    ")\n",
    "\n",
    "\n",
    "# def addCountry(e):\n",
    "#     with output:\n",
    "#         clear_output()\n",
    "#         countrySelections.value =  countrySelections.value + \", \" + countries.value\n",
    "    \n",
    "\n",
    "# countries = widgets.Dropdown(\n",
    "#     options= [country.strip() for country in dataDf.columns.values],\n",
    "#     value='US',\n",
    "#     description='Countries in Dataset:',\n",
    "#     disabled=False,\n",
    "# )\n",
    "\n",
    "# countries.observe(addCountry)\n"
   ]
  },
  {
   "cell_type": "code",
   "execution_count": 109,
   "metadata": {},
   "outputs": [
    {
     "data": {
      "text/plain": [
       "Index(['Afghanistan', 'Albania', 'Algeria', 'Andorra', 'Angola',\n",
       "       'Antigua and Barbuda', 'Argentina', 'Armenia', 'Australia', 'Austria',\n",
       "       ...\n",
       "       'United Kingdom', 'Uruguay', 'Uzbekistan', 'Vanuatu', 'Venezuela',\n",
       "       'Vietnam', 'West Bank and Gaza', 'Yemen', 'Zambia', 'Zimbabwe'],\n",
       "      dtype='object', name='country_region', length=191)"
      ]
     },
     "execution_count": 109,
     "metadata": {},
     "output_type": "execute_result"
    }
   ],
   "source": [
    "\n",
    "print(dataDf.columns)"
   ]
  },
  {
   "cell_type": "markdown",
   "metadata": {},
   "source": [
    "#### Let's look at how well effort to \"flatten curve\" was in the US vs. Italy. Play around with the interactive widget below yourself."
   ]
  },
  {
   "cell_type": "code",
   "execution_count": 154,
   "metadata": {
    "scrolled": true
   },
   "outputs": [
    {
     "data": {
      "application/vnd.jupyter.widget-view+json": {
       "model_id": "a1853df20d9b41079f70f64ea738341e",
       "version_major": 2,
       "version_minor": 0
      },
      "text/plain": [
       "SelectionRangeSlider(description='Months', index=(0, 11), options=(('Jan', datetime.datetime(2020, 1, 22, 0, 0…"
      ]
     },
     "metadata": {},
     "output_type": "display_data"
    },
    {
     "data": {
      "application/vnd.jupyter.widget-view+json": {
       "model_id": "7568d9e906184b27a880c9f9c76c34a8",
       "version_major": 2,
       "version_minor": 0
      },
      "text/plain": [
       "Text(value='Italy, US', description='Countries:', placeholder='Italy, US')"
      ]
     },
     "metadata": {},
     "output_type": "display_data"
    },
    {
     "data": {
      "application/vnd.jupyter.widget-view+json": {
       "model_id": "a87b34de895143a0b88af8123a5a30bc",
       "version_major": 2,
       "version_minor": 0
      },
      "text/plain": [
       "ToggleButtons(description='Metric:', options=('Cumulative Sum Cases', 'Daily Cases', 'Cumulative Sum Deaths', …"
      ]
     },
     "metadata": {},
     "output_type": "display_data"
    },
    {
     "data": {
      "application/vnd.jupyter.widget-view+json": {
       "model_id": "63f4bcc57fbd44f09b005f907ca00624",
       "version_major": 2,
       "version_minor": 0
      },
      "text/plain": [
       "Button(description='Plot', style=ButtonStyle())"
      ]
     },
     "metadata": {},
     "output_type": "display_data"
    },
    {
     "data": {
      "application/vnd.jupyter.widget-view+json": {
       "model_id": "24352ed0bcf8462590ff79110066b169",
       "version_major": 2,
       "version_minor": 0
      },
      "text/plain": [
       "Output()"
      ]
     },
     "metadata": {},
     "output_type": "display_data"
    }
   ],
   "source": [
    "display(dateMask, countrySelections, metric, button, output)"
   ]
  },
  {
   "cell_type": "markdown",
   "metadata": {},
   "source": [
    "#### US case numbers blow everyone else's out of the water. A far second is Brazil:"
   ]
  },
  {
   "cell_type": "code",
   "execution_count": 155,
   "metadata": {},
   "outputs": [
    {
     "data": {
      "image/png": "[encoded data removed]",
      "text/plain": [
       "<Figure size 432x288 with 1 Axes>"
      ]
     },
     "metadata": {
      "needs_background": "light"
     },
     "output_type": "display_data"
    }
   ],
   "source": [
    "\n",
    "ConfirmedCumSumByCountryAndDate(plt.subplot(), \"Italy\", \"United Kingdom\", \"Belgium\", \"Germany\", \"US\", \"Brazil\")"
   ]
  },
  {
   "cell_type": "markdown",
   "metadata": {},
   "source": [
    "**Italy was one of the first western countries the coronavirus arrived at. By end of March, Italy still had a higher *cumulative death* total, but the *cumulative case counts* in the US began to overtake those in Italy. But even before that, around mid March , *daily confirmed cases* overtook those of Italy even earlier .**"
   ]
  },
  {
   "cell_type": "code",
   "execution_count": 156,
   "metadata": {},
   "outputs": [
    {
     "data": {
      "image/png": "[encoded data removed]",
      "text/plain": [
       "<Figure size 432x288 with 1 Axes>"
      ]
     },
     "metadata": {
      "needs_background": "light"
     },
     "output_type": "display_data"
    }
   ],
   "source": [
    "DeathsCumSumByCountryAndDate( plt.subplot(),\"Italy\", \"US\", beginningMonth=\"jan\", endingMonth=\"Mar\")"
   ]
  },
  {
   "cell_type": "code",
   "execution_count": 158,
   "metadata": {},
   "outputs": [
    {
     "data": {
      "image/png": "[encoded data removed]",
      "text/plain": [
       "<Figure size 432x288 with 1 Axes>"
      ]
     },
     "metadata": {
      "needs_background": "light"
     },
     "output_type": "display_data"
    }
   ],
   "source": [
    "ConfirmedCumSumByCountryAndDate( plt.subplot(),\"Italy\", \"US\", beginningMonth=\"jan\", endingMonth=\"Mar\")"
   ]
  },
  {
   "cell_type": "code",
   "execution_count": 160,
   "metadata": {},
   "outputs": [
    {
     "data": {
      "image/png": "[encoded data removed]",
      "text/plain": [
       "<Figure size 432x288 with 1 Axes>"
      ]
     },
     "metadata": {
      "needs_background": "light"
     },
     "output_type": "display_data"
    }
   ],
   "source": [
    "ConfirmedDailyCountryAndDate( plt.subplot(),\"Italy\", \"US\", beginningMonth=\"jan\", endingMonth=\"Mar\")"
   ]
  },
  {
   "cell_type": "code",
   "execution_count": null,
   "metadata": {},
   "outputs": [],
   "source": []
  }
 ],
 "metadata": {
  "kernelspec": {
   "display_name": "Python 3",
   "language": "python",
   "name": "python3"
  },
  "language_info": {
   "codemirror_mode": {
    "name": "ipython",
    "version": 3
   },
   "file_extension": ".py",
   "mimetype": "text/x-python",
   "name": "python",
   "nbconvert_exporter": "python",
   "pygments_lexer": "ipython3",
   "version": "3.7.4"
  }
 },
 "nbformat": 4,
 "nbformat_minor": 4
}
